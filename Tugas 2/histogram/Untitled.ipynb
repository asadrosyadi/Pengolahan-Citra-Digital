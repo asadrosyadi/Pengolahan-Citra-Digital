{
 "cells": [
  {
   "cell_type": "code",
   "execution_count": 1,
   "id": "34b8bc89-916a-4143-8012-8fbe4d4389ed",
   "metadata": {},
   "outputs": [
    {
     "name": "stdout",
     "output_type": "stream",
     "text": [
      "Requirement already satisfied: scikit-image in c:\\users\\muham\\appdata\\local\\programs\\python\\python310\\lib\\site-packages (0.19.2)\n",
      "Requirement already satisfied: scipy>=1.4.1 in c:\\users\\muham\\appdata\\local\\programs\\python\\python310\\lib\\site-packages (from scikit-image) (1.8.0)\n",
      "Requirement already satisfied: imageio>=2.4.1 in c:\\users\\muham\\appdata\\local\\programs\\python\\python310\\lib\\site-packages (from scikit-image) (2.16.1)\n",
      "Requirement already satisfied: numpy>=1.17.0 in c:\\users\\muham\\appdata\\local\\programs\\python\\python310\\lib\\site-packages (from scikit-image) (1.22.2)\n",
      "Requirement already satisfied: networkx>=2.2 in c:\\users\\muham\\appdata\\local\\programs\\python\\python310\\lib\\site-packages (from scikit-image) (2.6.3)\n",
      "Requirement already satisfied: tifffile>=2019.7.26 in c:\\users\\muham\\appdata\\local\\programs\\python\\python310\\lib\\site-packages (from scikit-image) (2022.2.9)\n",
      "Requirement already satisfied: packaging>=20.0 in c:\\users\\muham\\appdata\\local\\programs\\python\\python310\\lib\\site-packages (from scikit-image) (21.3)\n",
      "Requirement already satisfied: PyWavelets>=1.1.1 in c:\\users\\muham\\appdata\\local\\programs\\python\\python310\\lib\\site-packages (from scikit-image) (1.3.0)\n",
      "Requirement already satisfied: pillow!=7.1.0,!=7.1.1,!=8.3.0,>=6.1.0 in c:\\users\\muham\\appdata\\local\\programs\\python\\python310\\lib\\site-packages (from scikit-image) (9.0.1)\n",
      "Requirement already satisfied: pyparsing!=3.0.5,>=2.0.2 in c:\\users\\muham\\appdata\\local\\programs\\python\\python310\\lib\\site-packages (from packaging>=20.0->scikit-image) (3.0.7)\n",
      "Note: you may need to restart the kernel to use updated packages.\n"
     ]
    }
   ],
   "source": [
    "pip install -U scikit-image"
   ]
  },
  {
   "cell_type": "code",
   "execution_count": null,
   "id": "b09b56ae-7fea-4c7e-91ef-71c573d98f98",
   "metadata": {},
   "outputs": [],
   "source": []
  }
 ],
 "metadata": {
  "kernelspec": {
   "display_name": "Python 3 (ipykernel)",
   "language": "python",
   "name": "python3"
  },
  "language_info": {
   "codemirror_mode": {
    "name": "ipython",
    "version": 3
   },
   "file_extension": ".py",
   "mimetype": "text/x-python",
   "name": "python",
   "nbconvert_exporter": "python",
   "pygments_lexer": "ipython3",
   "version": "3.10.2"
  }
 },
 "nbformat": 4,
 "nbformat_minor": 5
}

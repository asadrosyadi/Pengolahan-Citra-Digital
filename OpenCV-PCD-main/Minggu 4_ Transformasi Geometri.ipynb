{
 "cells": [
  {
   "cell_type": "markdown",
   "metadata": {
    "colab_type": "text",
    "id": "M12uB080MDI3"
   },
   "source": [
    "#**Minggu 4: Transformasi Geometri**"
   ]
  },
  {
   "cell_type": "code",
   "execution_count": null,
   "metadata": {
    "colab": {
     "base_uri": "https://localhost:8080/",
     "height": 1000,
     "output_embedded_package_id": "1ZXDBahULV0SanXoseQ3nNUEyAtL8rQ5u"
    },
    "colab_type": "code",
    "executionInfo": {
     "elapsed": 4896,
     "status": "ok",
     "timestamp": 1583287351282,
     "user": {
      "displayName": "Dany Puguh Laksono",
      "photoUrl": "https://lh3.googleusercontent.com/a-/AOh14Gjd8eOzv4V9R3fnhZHMJEN542UAJIK5XPlKWPS5=s64",
      "userId": "10973890960709691040"
     },
     "user_tz": -420
    },
    "id": "q7i8uWoYKbyz",
    "outputId": "2dd4ad28-1550-4c7a-deab-48c6291d2246"
   },
   "outputs": [
    {
     "ename": "ModuleNotFoundError",
     "evalue": "No module named 'cv2_imshow'",
     "output_type": "error",
     "traceback": [
      "\u001b[1;31m---------------------------------------------------------------------------\u001b[0m",
      "\u001b[1;31mModuleNotFoundError\u001b[0m                       Traceback (most recent call last)",
      "Input \u001b[1;32mIn [4]\u001b[0m, in \u001b[0;36m<module>\u001b[1;34m\u001b[0m\n\u001b[0;32m      1\u001b[0m \u001b[38;5;66;03m# skala\u001b[39;00m\n\u001b[0;32m      3\u001b[0m \u001b[38;5;28;01mimport\u001b[39;00m \u001b[38;5;21;01mcv2\u001b[39;00m\n\u001b[1;32m----> 4\u001b[0m \u001b[38;5;28;01mimport\u001b[39;00m \u001b[38;5;21;01mcv2_imshow\u001b[39;00m\n\u001b[0;32m      6\u001b[0m img \u001b[38;5;241m=\u001b[39m cv2\u001b[38;5;241m.\u001b[39mimread(\u001b[38;5;124m'\u001b[39m\u001b[38;5;124mgrumpy.jpg\u001b[39m\u001b[38;5;124m'\u001b[39m)\n\u001b[0;32m      8\u001b[0m dstSkala \u001b[38;5;241m=\u001b[39m cv2\u001b[38;5;241m.\u001b[39mresize(img, \u001b[38;5;28;01mNone\u001b[39;00m, fx\u001b[38;5;241m=\u001b[39m\u001b[38;5;241m2.5\u001b[39m, fy\u001b[38;5;241m=\u001b[39m\u001b[38;5;241m2\u001b[39m, interpolation\u001b[38;5;241m=\u001b[39mcv2\u001b[38;5;241m.\u001b[39mINTER_CUBIC)\n",
      "\u001b[1;31mModuleNotFoundError\u001b[0m: No module named 'cv2_imshow'"
     ]
    }
   ],
   "source": [
    "# skala\n",
    "\n",
    "import cv2\n",
    "from google.colab.patches import cv2_imshow\n",
    "\n",
    "img = cv2.imread('grumpy.jpg')\n",
    "\n",
    "dstSkala = cv2.resize(img, None, fx=2.5, fy=2, interpolation=cv2.INTER_CUBIC)\n",
    "cv2_imshow(img)\n",
    "cv2_imshow(dstSkala)\n"
   ]
  },
  {
   "cell_type": "code",
   "execution_count": null,
   "metadata": {
    "colab": {
     "base_uri": "https://localhost:8080/",
     "height": 610
    },
    "colab_type": "code",
    "executionInfo": {
     "elapsed": 1767,
     "status": "ok",
     "timestamp": 1583287997990,
     "user": {
      "displayName": "Dany Puguh Laksono",
      "photoUrl": "https://lh3.googleusercontent.com/a-/AOh14Gjd8eOzv4V9R3fnhZHMJEN542UAJIK5XPlKWPS5=s64",
      "userId": "10973890960709691040"
     },
     "user_tz": -420
    },
    "id": "yQVSr3PZROx6",
    "outputId": "d6453ac6-32f9-4fd9-e4f7-5888d6565587"
   },
   "outputs": [],
   "source": [
    "# translasi\n",
    "\n",
    "import numpy as np\n",
    "\n",
    "print(img.shape)\n",
    "\n",
    "baris, coloms, ghgh = img.shape\n",
    "\n",
    "MTranslasi = np.float32([\n",
    "     [2, 0, 100],\n",
    "     [0, 2, 50]           \n",
    "    ])\n",
    "\n",
    "print(MTranslasi, '\\n')\n",
    "\n",
    "\n",
    "dst = cv2.warpAffine(img, MTranslasi, (cols, rows))\n",
    "\n",
    "cv2_imshow(dst)"
   ]
  },
  {
   "cell_type": "code",
   "execution_count": null,
   "metadata": {
    "colab": {
     "base_uri": "https://localhost:8080/",
     "height": 576
    },
    "colab_type": "code",
    "executionInfo": {
     "elapsed": 1949,
     "status": "ok",
     "timestamp": 1583220764659,
     "user": {
      "displayName": "Dany Puguh Laksono",
      "photoUrl": "https://lh3.googleusercontent.com/a-/AOh14Gjd8eOzv4V9R3fnhZHMJEN542UAJIK5XPlKWPS5=s64",
      "userId": "10973890960709691040"
     },
     "user_tz": -420
    },
    "id": "OoOtGLNRSX2F",
    "outputId": "26307ad9-39a5-4437-8044-ba2490ddc5f9"
   },
   "outputs": [],
   "source": [
    "# rotasi\n",
    "\n",
    "MRotasi = cv2.getRotationMatrix2D((cols/2, rows/2), 90, 1)\n",
    "\n",
    "print(MRotasi)\n",
    "\n",
    "dstRotasi = cv2.warpAffine(img, MRotasi, (cols, rows))\n",
    "\n",
    "cv2_imshow(dstRotasi)"
   ]
  },
  {
   "cell_type": "code",
   "execution_count": null,
   "metadata": {
    "colab": {
     "base_uri": "https://localhost:8080/",
     "height": 576
    },
    "colab_type": "code",
    "executionInfo": {
     "elapsed": 1748,
     "status": "ok",
     "timestamp": 1583221329684,
     "user": {
      "displayName": "Dany Puguh Laksono",
      "photoUrl": "https://lh3.googleusercontent.com/a-/AOh14Gjd8eOzv4V9R3fnhZHMJEN542UAJIK5XPlKWPS5=s64",
      "userId": "10973890960709691040"
     },
     "user_tz": -420
    },
    "id": "ghGuH9LsTgMa",
    "outputId": "c4ba4b16-e1c0-4cad-8719-d9b02974ddaf"
   },
   "outputs": [],
   "source": [
    "# Affine\n",
    "\n",
    "ttkAsal = np.float32([[172,109], [282,65], [272,316]])\n",
    "ttkTujuan = np.float32([[53,128], [471,46], [275, 385]])\n",
    "\n",
    "MAffine = cv2.getAffineTransform(ttkAsal, ttkTujuan)\n",
    "\n",
    "print(MAffine)\n",
    "\n",
    "dstAffine = cv2.warpAffine(img, MAffine, (cols, rows))\n",
    "\n",
    "cv2_imshow(dstAffine)"
   ]
  },
  {
   "cell_type": "code",
   "execution_count": null,
   "metadata": {
    "colab": {},
    "colab_type": "code",
    "id": "IoNnt3oKVoqQ"
   },
   "outputs": [],
   "source": []
  }
 ],
 "metadata": {
  "colab": {
   "authorship_tag": "ABX9TyNdCIiMcKxeFkfw4y4kgL7C",
   "name": "Minggu 4: Transformasi Geometri.ipynb",
   "provenance": []
  },
  "kernelspec": {
   "display_name": "Python 3 (ipykernel)",
   "language": "python",
   "name": "python3"
  },
  "language_info": {
   "codemirror_mode": {
    "name": "ipython",
    "version": 3
   },
   "file_extension": ".py",
   "mimetype": "text/x-python",
   "name": "python",
   "nbconvert_exporter": "python",
   "pygments_lexer": "ipython3",
   "version": "3.10.2"
  }
 },
 "nbformat": 4,
 "nbformat_minor": 4
}
